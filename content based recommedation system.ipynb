{
 "cells": [
  {
   "cell_type": "markdown",
   "id": "84d131ad-dbdc-4332-8fa6-ea6705cb2250",
   "metadata": {},
   "source": [
    "# Music recommender system"
   ]
  },
  {
   "cell_type": "markdown",
   "id": "d929722c-8a99-479d-a2f4-8c1d6b5157f4",
   "metadata": {},
   "source": [
    "## Content-based filters"
   ]
  },
  {
   "cell_type": "code",
   "execution_count": 24,
   "id": "17a15ba7-5676-4150-b5ae-a4d0035e77c4",
   "metadata": {},
   "outputs": [],
   "source": [
    "import pandas as pd\n",
    "import numpy as np\n",
    "from typing import List, Dict\n",
    "import warnings\n",
    "warnings.filterwarnings('ignore')\n"
   ]
  },
  {
   "cell_type": "code",
   "execution_count": 25,
   "id": "302e1a36-ae39-4970-b103-53b89f8a7d45",
   "metadata": {},
   "outputs": [],
   "source": [
    "songs = pd.read_csv(\"song_lyric_data.csv\")"
   ]
  },
  {
   "cell_type": "code",
   "execution_count": 26,
   "id": "64d3d133-cf5b-4784-ad99-4657d55ee3a6",
   "metadata": {},
   "outputs": [
    {
     "data": {
      "text/plain": [
       "(57650, 4)"
      ]
     },
     "execution_count": 26,
     "metadata": {},
     "output_type": "execute_result"
    }
   ],
   "source": [
    "songs.shape"
   ]
  },
  {
   "cell_type": "code",
   "execution_count": 27,
   "id": "d669e626-64fa-4779-849d-fb05f5ba3e15",
   "metadata": {},
   "outputs": [
    {
     "data": {
      "text/html": [
       "<div>\n",
       "<style scoped>\n",
       "    .dataframe tbody tr th:only-of-type {\n",
       "        vertical-align: middle;\n",
       "    }\n",
       "\n",
       "    .dataframe tbody tr th {\n",
       "        vertical-align: top;\n",
       "    }\n",
       "\n",
       "    .dataframe thead th {\n",
       "        text-align: right;\n",
       "    }\n",
       "</style>\n",
       "<table border=\"1\" class=\"dataframe\">\n",
       "  <thead>\n",
       "    <tr style=\"text-align: right;\">\n",
       "      <th></th>\n",
       "      <th>artist</th>\n",
       "      <th>song</th>\n",
       "      <th>link</th>\n",
       "      <th>text</th>\n",
       "    </tr>\n",
       "  </thead>\n",
       "  <tbody>\n",
       "    <tr>\n",
       "      <th>0</th>\n",
       "      <td>ABBA</td>\n",
       "      <td>Ahe's My Kind Of Girl</td>\n",
       "      <td>/a/abba/ahes+my+kind+of+girl_20598417.html</td>\n",
       "      <td>Look at her face, it's a wonderful face  \\nAnd...</td>\n",
       "    </tr>\n",
       "    <tr>\n",
       "      <th>1</th>\n",
       "      <td>ABBA</td>\n",
       "      <td>Andante, Andante</td>\n",
       "      <td>/a/abba/andante+andante_20002708.html</td>\n",
       "      <td>Take it easy with me, please  \\nTouch me gentl...</td>\n",
       "    </tr>\n",
       "    <tr>\n",
       "      <th>2</th>\n",
       "      <td>ABBA</td>\n",
       "      <td>As Good As New</td>\n",
       "      <td>/a/abba/as+good+as+new_20003033.html</td>\n",
       "      <td>I'll never know why I had to go  \\nWhy I had t...</td>\n",
       "    </tr>\n",
       "    <tr>\n",
       "      <th>3</th>\n",
       "      <td>ABBA</td>\n",
       "      <td>Bang</td>\n",
       "      <td>/a/abba/bang_20598415.html</td>\n",
       "      <td>Making somebody happy is a question of give an...</td>\n",
       "    </tr>\n",
       "    <tr>\n",
       "      <th>4</th>\n",
       "      <td>ABBA</td>\n",
       "      <td>Bang-A-Boomerang</td>\n",
       "      <td>/a/abba/bang+a+boomerang_20002668.html</td>\n",
       "      <td>Making somebody happy is a question of give an...</td>\n",
       "    </tr>\n",
       "  </tbody>\n",
       "</table>\n",
       "</div>"
      ],
      "text/plain": [
       "  artist                   song                                        link  \\\n",
       "0   ABBA  Ahe's My Kind Of Girl  /a/abba/ahes+my+kind+of+girl_20598417.html   \n",
       "1   ABBA       Andante, Andante       /a/abba/andante+andante_20002708.html   \n",
       "2   ABBA         As Good As New        /a/abba/as+good+as+new_20003033.html   \n",
       "3   ABBA                   Bang                  /a/abba/bang_20598415.html   \n",
       "4   ABBA       Bang-A-Boomerang      /a/abba/bang+a+boomerang_20002668.html   \n",
       "\n",
       "                                                text  \n",
       "0  Look at her face, it's a wonderful face  \\nAnd...  \n",
       "1  Take it easy with me, please  \\nTouch me gentl...  \n",
       "2  I'll never know why I had to go  \\nWhy I had t...  \n",
       "3  Making somebody happy is a question of give an...  \n",
       "4  Making somebody happy is a question of give an...  "
      ]
     },
     "execution_count": 27,
     "metadata": {},
     "output_type": "execute_result"
    }
   ],
   "source": [
    "songs.head()"
   ]
  },
  {
   "cell_type": "markdown",
   "id": "6834ee45-5a31-481e-b74a-031851fe3b5c",
   "metadata": {},
   "source": [
    "## Because of the dataset being so big, we are going to resample only 5000 random songs."
   ]
  },
  {
   "cell_type": "code",
   "execution_count": 28,
   "id": "81d934b7-22be-4674-88d4-f2e082426de3",
   "metadata": {},
   "outputs": [],
   "source": [
    "songs = songs.sample(n=5000).drop('link' , axis=1).reset_index(drop=True)"
   ]
  },
  {
   "cell_type": "markdown",
   "id": "7fb464c5-a685-4c07-8cea-bd58f8ea6544",
   "metadata": {},
   "source": [
    "## We can notice also the presence of \\n in the text, so we are going to remove it."
   ]
  },
  {
   "cell_type": "code",
   "execution_count": 29,
   "id": "71a0508b-d512-4aa0-8765-5338011ef9d4",
   "metadata": {},
   "outputs": [],
   "source": [
    "songs['text'] = songs['text'].str.replace(r'\\n', '')"
   ]
  },
  {
   "cell_type": "markdown",
   "id": "ab01e863-1782-43c1-aa2e-76314d420e0a",
   "metadata": {},
   "source": [
    "## After that, we use TF-IDF vectorizerthat calculates the TF-IDF score for each song lyric, word-by-word."
   ]
  },
  {
   "cell_type": "code",
   "execution_count": 30,
   "id": "73d36151-7a0b-4b41-9547-fcc567a75d9c",
   "metadata": {},
   "outputs": [],
   "source": [
    "from sklearn.feature_extraction.text import TfidfVectorizer\n",
    "from sklearn.metrics.pairwise import cosine_similarity"
   ]
  },
  {
   "cell_type": "code",
   "execution_count": 31,
   "id": "0ba554cd-7895-4963-b0f3-ec3566322a2b",
   "metadata": {},
   "outputs": [],
   "source": [
    "tfid = TfidfVectorizer(analyzer='word' , stop_words='english')"
   ]
  },
  {
   "cell_type": "code",
   "execution_count": 32,
   "id": "96422e76-8766-491b-8db9-c55b55baf8ca",
   "metadata": {},
   "outputs": [],
   "source": [
    "lyrics_matrix = tfid.fit_transform(songs['text'])"
   ]
  },
  {
   "cell_type": "markdown",
   "id": "c83aa4a4-0a83-4921-8866-f84bd6977024",
   "metadata": {},
   "source": [
    "## We now need to calculate the similarity of one lyric to another. We are going to use cosine similarity."
   ]
  },
  {
   "cell_type": "code",
   "execution_count": 33,
   "id": "f5af1cfa-d058-43ab-93d0-e017bfc9cd26",
   "metadata": {},
   "outputs": [],
   "source": [
    "cosine_similarities = cosine_similarity(lyrics_matrix) "
   ]
  },
  {
   "cell_type": "code",
   "execution_count": 34,
   "id": "f89de5c6-6674-4bf0-9d65-36e2370f440e",
   "metadata": {},
   "outputs": [
    {
     "data": {
      "text/plain": [
       "(5000, 5000)"
      ]
     },
     "execution_count": 34,
     "metadata": {},
     "output_type": "execute_result"
    }
   ],
   "source": [
    "cosine_similarities.shape"
   ]
  },
  {
   "cell_type": "markdown",
   "id": "5181206c-677d-44e2-8ff9-b1a28f9c0ead",
   "metadata": {},
   "source": [
    "## Once we get the similarities, we'll store in a dictionary the names of the 50 most similar songs for each song in our dataset."
   ]
  },
  {
   "cell_type": "code",
   "execution_count": 35,
   "id": "3cb8077e-9bdc-4a10-8fc5-dc288963af15",
   "metadata": {},
   "outputs": [],
   "source": [
    "similarities = {}"
   ]
  },
  {
   "cell_type": "code",
   "execution_count": 36,
   "id": "598f15ba-21d0-4ccc-a2f9-4190204a15cb",
   "metadata": {},
   "outputs": [],
   "source": [
    "for i in range(len(cosine_similarities)):\n",
    "    # Now we'll sort each element in cosine_similarities and get the indexes of the songs. \n",
    "    similar_indices = cosine_similarities[i].argsort()[:-50:-1] \n",
    "    # After that, we'll store in similarities each name of the 50 most similar songs.\n",
    "    # Except the first one that is the same song.\n",
    "    similarities[songs['song'].iloc[i]] = [(cosine_similarities[i][x], songs['song'][x], songs['artist'][x]) for x in similar_indices][1:]\n"
   ]
  },
  {
   "cell_type": "code",
   "execution_count": 37,
   "id": "eb75c0ff-1e84-42b9-b433-d35a14952f9e",
   "metadata": {},
   "outputs": [],
   "source": [
    "class ContentBasedRecommender:\n",
    "    def __init__(self, matrix):\n",
    "        self.matrix_similar = matrix\n",
    "\n",
    "    def _print_message(self, song, recom_song):\n",
    "        rec_items = len(recom_song)\n",
    "        \n",
    "        print(f'The {rec_items} recommended songs for {song} are:')\n",
    "        for i in range(rec_items):\n",
    "            print(f\"Number {i+1}:\")\n",
    "            print(f\"{recom_song[i][1]} by {recom_song[i][2]} with {round(recom_song[i][0], 3)} similarity score\") \n",
    "            print(\"--------------------\")\n",
    "        \n",
    "    def recommend(self, recommendation):\n",
    "        # Get song to find recommendations for\n",
    "        song = recommendation['song']\n",
    "        # Get number of songs to recommend\n",
    "        number_songs = recommendation['number_songs']\n",
    "        # Get the number of songs most similars from matrix similarities\n",
    "        recom_song = self.matrix_similar[song][:number_songs]\n",
    "        # print each item\n",
    "        self._print_message(song=song, recom_song=recom_song)"
   ]
  },
  {
   "cell_type": "code",
   "execution_count": 38,
   "id": "f8172bf6-222d-4c71-a4cd-8ceab7ad45c0",
   "metadata": {},
   "outputs": [],
   "source": [
    "recommedations = ContentBasedRecommender(similarities)"
   ]
  },
  {
   "cell_type": "markdown",
   "id": "8c299ae6-0c7f-4849-8cb7-6e5605648b44",
   "metadata": {},
   "source": [
    "## Then, we are ready to pick a song from the dataset and make a recommendation."
   ]
  },
  {
   "cell_type": "code",
   "execution_count": 39,
   "id": "9d5da86f-1395-44f6-a59e-c023fd33f6af",
   "metadata": {},
   "outputs": [],
   "source": [
    "recommendation = {\n",
    "    \"song\": songs['song'].iloc[10],\n",
    "    \"number_songs\": 10 \n",
    "}"
   ]
  },
  {
   "cell_type": "code",
   "execution_count": 40,
   "id": "ec04c41b-ff64-40ab-b5fd-0e676b890afa",
   "metadata": {},
   "outputs": [
    {
     "name": "stdout",
     "output_type": "stream",
     "text": [
      "The 10 recommended songs for I Love You, Suzanne are:\n",
      "Number 1:\n",
      "Suzanne by Journey with 0.765 similarity score\n",
      "--------------------\n",
      "Number 2:\n",
      "Poppin' by Utada Hikaru with 0.303 similarity score\n",
      "--------------------\n",
      "Number 3:\n",
      "Hey You by Modern Talking with 0.296 similarity score\n",
      "--------------------\n",
      "Number 4:\n",
      "The Best Damn Thing by Avril Lavigne with 0.296 similarity score\n",
      "--------------------\n",
      "Number 5:\n",
      "Kansas City by Paul McCartney with 0.273 similarity score\n",
      "--------------------\n",
      "Number 6:\n",
      "Hey Now by Ray Charles with 0.258 similarity score\n",
      "--------------------\n",
      "Number 7:\n",
      "Do You Want To by Xscape with 0.253 similarity score\n",
      "--------------------\n",
      "Number 8:\n",
      "Loaded by Wishbone Ash with 0.232 similarity score\n",
      "--------------------\n",
      "Number 9:\n",
      "Only Love by John Prine with 0.214 similarity score\n",
      "--------------------\n",
      "Number 10:\n",
      "Why Can't This Be Love by Van Halen with 0.214 similarity score\n",
      "--------------------\n"
     ]
    }
   ],
   "source": [
    "recommedations.recommend(recommendation)"
   ]
  },
  {
   "cell_type": "code",
   "execution_count": null,
   "id": "9c372372-3b1d-4df2-bf0b-004ab52f3936",
   "metadata": {},
   "outputs": [],
   "source": []
  },
  {
   "cell_type": "code",
   "execution_count": null,
   "id": "ccf51acd-4cce-4cb9-a797-3136845ca84e",
   "metadata": {},
   "outputs": [],
   "source": []
  }
 ],
 "metadata": {
  "kernelspec": {
   "display_name": "Python 3 (ipykernel)",
   "language": "python",
   "name": "python3"
  },
  "language_info": {
   "codemirror_mode": {
    "name": "ipython",
    "version": 3
   },
   "file_extension": ".py",
   "mimetype": "text/x-python",
   "name": "python",
   "nbconvert_exporter": "python",
   "pygments_lexer": "ipython3",
   "version": "3.10.9"
  }
 },
 "nbformat": 4,
 "nbformat_minor": 5
}
